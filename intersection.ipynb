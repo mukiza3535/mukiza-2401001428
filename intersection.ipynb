{
  "nbformat": 4,
  "nbformat_minor": 0,
  "metadata": {
    "colab": {
      "provenance": []
    },
    "kernelspec": {
      "name": "python3",
      "display_name": "Python 3"
    },
    "language_info": {
      "name": "python"
    }
  },
  "cells": [
    {
      "cell_type": "code",
      "execution_count": 4,
      "metadata": {
        "colab": {
          "base_uri": "https://localhost:8080/"
        },
        "id": "YkA25cGLYm21",
        "outputId": "88484bae-4dd9-400f-f64f-913f42a9e433"
      },
      "outputs": [
        {
          "output_type": "stream",
          "name": "stdout",
          "text": [
            "similarity: 0.50\n",
            "common words: {'of', 'history', 'the', 'is', 'systematic', 'study'}\n"
          ]
        }
      ],
      "source": [
        "def jaccard_similarity(file1, file2):\n",
        "    set1 = set(file1.lower().split())\n",
        "    set2 = set(file2.lower().split())\n",
        "\n",
        "    intersection = set1.intersection(set2)\n",
        "    union = set1.union(set2)\n",
        "    similarity = len(intersection) / len(union)\n",
        "    return similarity, intersection\n",
        "\n",
        "file1 = \"History is the systematic study of the past\"\n",
        "file2 = \"HIstory is the systematic study of the past, this is just for pracitce\"\n",
        "similarity, common_words = jaccard_similarity(file1, file2)\n",
        "print(f\"similarity: {similarity:.2f}\")\n",
        "print(f\"common words: {common_words}\")"
      ]
    }
  ]
}